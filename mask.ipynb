{
 "cells": [
  {
   "cell_type": "code",
   "execution_count": 130,
   "metadata": {},
   "outputs": [],
   "source": [
    "import numpy as np\n",
    "import pandas as pd\n",
    "np.random.seed(0)\n",
    "\n",
    "from tensorflow.keras.models import Sequential\n",
    "from tensorflow.keras.layers import Dense, Dropout, Flatten, Conv2D, MaxPool2D\n",
    "from keras.preprocessing.image import load_img\n",
    "from keras.preprocessing.image import img_to_array\n",
    "from sklearn.model_selection import train_test_split\n",
    "\n",
    "import os\n",
    "import cv2\n",
    "import sys\n",
    "from PIL import Image\n",
    "from pathlib import Path\n",
    "from tqdm import tqdm\n",
    "\n",
    "import matplotlib.pyplot as plt\n",
    "%matplotlib inline"
   ]
  },
  {
   "cell_type": "code",
   "execution_count": 182,
   "metadata": {},
   "outputs": [],
   "source": [
    "DATA_PATH = Path('./data')\n",
    "CATEGORIES = ['no_mask', 'mask']\n",
    "IMG_SIZE = 100"
   ]
  },
  {
   "cell_type": "code",
   "execution_count": 184,
   "metadata": {},
   "outputs": [
    {
     "data": {
      "image/png": "[encoded data removed]",
      "text/plain": [
       "<PIL.Image.Image image mode=RGB size=100x100 at 0x7FCC103150D0>"
      ]
     },
     "execution_count": 184,
     "metadata": {},
     "output_type": "execute_result"
    }
   ],
   "source": [
    "load_img('./data/mask/aidai/0_0_1.jpg', target_size=(IMG_SIZE, IMG_SIZE))"
   ]
  },
  {
   "cell_type": "code",
   "execution_count": 193,
   "metadata": {},
   "outputs": [
    {
     "name": "stderr",
     "output_type": "stream",
     "text": [
      "100%|██████████| 460/460 [02:07<00:00,  3.61it/s]\n",
      "100%|██████████| 525/525 [00:04<00:00, 121.10it/s]\n"
     ]
    }
   ],
   "source": [
    "# data preparation\n",
    "def preprocess_data():\n",
    "    images = []\n",
    "    labels = []\n",
    "    \n",
    "    for category in CATEGORIES:\n",
    "        path = DATA_PATH/category\n",
    "\n",
    "        for directory in tqdm(list(path.iterdir())):\n",
    "            for imgPath in directory.iterdir():\n",
    "                img = load_img(imgPath, target_size=(IMG_SIZE, IMG_SIZE))\n",
    "                img_array = img_to_array(img)\n",
    "                \n",
    "                class_num = CATEGORIES.index(category)\n",
    "                \n",
    "                images.append(img_array)\n",
    "                labels.append(class_num)\n",
    "          \n",
    "    images = np.array(images)\n",
    "    labels = np.array(labels)\n",
    "    \n",
    "    if np.max(images) > 1: images /= 255\n",
    "    \n",
    "    return images, labels\n",
    "\n",
    "X, y = preprocess_data()"
   ]
  },
  {
   "cell_type": "code",
   "execution_count": 195,
   "metadata": {},
   "outputs": [],
   "source": [
    "X_train, X_test, y_train, y_test = train_test_split(X, y, test_size=0.3)"
   ]
  },
  {
   "cell_type": "code",
   "execution_count": 211,
   "metadata": {},
   "outputs": [
    {
     "name": "stdout",
     "output_type": "stream",
     "text": [
      "Model: \"sequential_26\"\n",
      "_________________________________________________________________\n",
      "Layer (type)                 Output Shape              Param #   \n",
      "=================================================================\n",
      "conv2d_63 (Conv2D)           (None, 98, 98, 32)        896       \n",
      "_________________________________________________________________\n",
      "max_pooling2d_63 (MaxPooling (None, 49, 49, 32)        0         \n",
      "_________________________________________________________________\n",
      "conv2d_64 (Conv2D)           (None, 47, 47, 64)        18496     \n",
      "_________________________________________________________________\n",
      "max_pooling2d_64 (MaxPooling (None, 23, 23, 64)        0         \n",
      "_________________________________________________________________\n",
      "conv2d_65 (Conv2D)           (None, 21, 21, 128)       73856     \n",
      "_________________________________________________________________\n",
      "max_pooling2d_65 (MaxPooling (None, 10, 10, 128)       0         \n",
      "_________________________________________________________________\n",
      "flatten_26 (Flatten)         (None, 12800)             0         \n",
      "_________________________________________________________________\n",
      "dense_66 (Dense)             (None, 2048)              26216448  \n",
      "_________________________________________________________________\n",
      "dense_67 (Dense)             (None, 1028)              2106372   \n",
      "_________________________________________________________________\n",
      "dense_68 (Dense)             (None, 1)                 1029      \n",
      "=================================================================\n",
      "Total params: 28,417,097\n",
      "Trainable params: 28,417,097\n",
      "Non-trainable params: 0\n",
      "_________________________________________________________________\n"
     ]
    }
   ],
   "source": [
    "model = Sequential([\n",
    "    Conv2D(32, kernel_size=(3, 3), activation='relu', input_shape=X_train.shape[1:]),\n",
    "    MaxPool2D(pool_size=(2, 2)),\n",
    "\n",
    "    Conv2D(64, kernel_size=(3, 3), activation='relu'),\n",
    "    MaxPool2D(pool_size=(2, 2)),\n",
    "    \n",
    "    Conv2D(128, kernel_size=(3, 3), activation='relu', input_shape=X_train.shape[1:]),\n",
    "    MaxPool2D(pool_size=(2, 2)),\n",
    "\n",
    "    Flatten(),\n",
    "    \n",
    "    Dense(2048, activation='relu'),\n",
    "    Dense(1028, activation='relu'),\n",
    "    Dense(1, activation='sigmoid')\n",
    "])\n",
    "\n",
    "model.summary()"
   ]
  },
  {
   "cell_type": "code",
   "execution_count": 212,
   "metadata": {},
   "outputs": [
    {
     "name": "stdout",
     "output_type": "stream",
     "text": [
      "Epoch 1/3\n",
      "507/507 [==============================] - 295s 579ms/step - loss: 0.0588 - accuracy: 0.9755 - val_loss: 0.0229 - val_accuracy: 0.9949\n",
      "Epoch 2/3\n",
      "507/507 [==============================] - 292s 576ms/step - loss: 0.0186 - accuracy: 0.9956 - val_loss: 0.0221 - val_accuracy: 0.9956\n",
      "Epoch 3/3\n",
      "507/507 [==============================] - 281s 555ms/step - loss: 0.0198 - accuracy: 0.9954 - val_loss: 0.0106 - val_accuracy: 0.9968\n"
     ]
    }
   ],
   "source": [
    "model.compile(loss='binary_crossentropy', optimizer='adam', metrics=['accuracy'])\n",
    "\n",
    "history = model.fit(X_train, y_train,\n",
    "          batch_size=128,\n",
    "          epochs=3,\n",
    "          verbose=1,\n",
    "          validation_data=(X_test, y_test))"
   ]
  },
  {
   "cell_type": "code",
   "execution_count": null,
   "metadata": {},
   "outputs": [],
   "source": [
    "score = model.evaluate(X_test, y_test, verbose=0)\n",
    "print('Test loss:', score[0])\n",
    "print('Test accuracy:', score[1])\n",
    "\n",
    "print(\"CNN Error: %.2f%%\" % (100-score[1]*100))"
   ]
  }
 ],
 "metadata": {
  "kernelspec": {
   "display_name": "Python 3",
   "language": "python",
   "name": "python3"
  },
  "language_info": {
   "codemirror_mode": {
    "name": "ipython",
    "version": 3
   },
   "file_extension": ".py",
   "mimetype": "text/x-python",
   "name": "python",
   "nbconvert_exporter": "python",
   "pygments_lexer": "ipython3",
   "version": "3.8.7"
  }
 },
 "nbformat": 4,
 "nbformat_minor": 4
}
